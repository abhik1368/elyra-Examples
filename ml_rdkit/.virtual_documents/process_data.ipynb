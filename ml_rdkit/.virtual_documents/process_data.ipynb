get_ipython().getoutput("conda activate rdkit")
get_ipython().getoutput("pip install dtreeviz rdkit-pypi PyTDC")


import pandas as pd #data table manipulation
from rdkit import Chem # basic cheminformatics
from rdkit.Chem.Descriptors import MolWt, MolLogP, NumAromaticRings, NumHDonors, NumHAcceptors
import math #needed for log10
import seaborn as sns #plotting
from sklearn.tree import DecisionTreeClassifier, plot_tree # decision trees
from sklearn.model_selection import train_test_split # split a dataset
from tqdm import tqdm # progress bar
from matplotlib import pyplot as plt # plotting
from dtreeviz.trees import * #plotting decision trees
from sklearn.metrics import roc_auc_score, matthews_corrcoef, cohen_kappa_score, plot_roc_curve, plot_confusion_matrix # model stats
from tdc.single_pred import ADME
from rdkit.Chem.MolStandardize import rdMolStandardize
from rdkit.rdBase import BlockLogs




tqdm.pandas()
data = ADME(name = 'Solubility_AqSolDB')
sol_df = data.get_data()
sol_df.columns = ["Name","SMILES","LogS"]
## Reordering columns names
sol_df = sol_df[['SMILES','Name','LogS']]
sol_df




block = BlockLogs()
#sol_df['mol'] = sol_df.SMILES.progress_apply(standardize)
del block

sol_df['IsSol'] = sol_df.LogS > math.log10(200 * 1e-6)

sns.set_context('talk') # Set the fonts the way I like them
sns.displot(x='LogS',hue="IsSol",data=sol_df)

sol_df.to_csv("data/soldata.csv")



