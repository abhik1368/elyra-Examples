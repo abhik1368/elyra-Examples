{
 "cells": [
  {
   "cell_type": "code",
   "execution_count": 1,
   "id": "06894dfb-6bd4-403d-94e5-97bbe2921478",
   "metadata": {
    "execution": {
     "iopub.execute_input": "2022-09-23T06:03:32.783954Z",
     "iopub.status.busy": "2022-09-23T06:03:32.783954Z",
     "iopub.status.idle": "2022-09-23T06:03:36.111465Z",
     "shell.execute_reply": "2022-09-23T06:03:36.111465Z"
    },
    "papermill": {
     "duration": 3.327511,
     "end_time": "2022-09-23T06:03:36.111465",
     "exception": false,
     "start_time": "2022-09-23T06:03:32.783954",
     "status": "completed"
    },
    "tags": []
   },
   "outputs": [
    {
     "name": "stdout",
     "output_type": "stream",
     "text": [
      "Requirement already satisfied: dtreeviz in c:\\users\\abhik\\anaconda3\\envs\\rdkit\\lib\\site-packages (1.3.7)\n",
      "Requirement already satisfied: rdkit-pypi in c:\\users\\abhik\\anaconda3\\envs\\rdkit\\lib\\site-packages (2022.3.5)\n",
      "Requirement already satisfied: PyTDC in c:\\users\\abhik\\anaconda3\\envs\\rdkit\\lib\\site-packages (0.3.7)\n",
      "Requirement already satisfied: graphviz>=0.9 in c:\\users\\abhik\\anaconda3\\envs\\rdkit\\lib\\site-packages (from dtreeviz) (0.20.1)\n",
      "Requirement already satisfied: colour in c:\\users\\abhik\\anaconda3\\envs\\rdkit\\lib\\site-packages (from dtreeviz) (0.1.5)\n",
      "Requirement already satisfied: numpy in c:\\users\\abhik\\anaconda3\\envs\\rdkit\\lib\\site-packages (from dtreeviz) (1.21.6)\n",
      "Requirement already satisfied: matplotlib in c:\\users\\abhik\\anaconda3\\envs\\rdkit\\lib\\site-packages (from dtreeviz) (3.5.2)\n",
      "Requirement already satisfied: pandas in c:\\users\\abhik\\anaconda3\\envs\\rdkit\\lib\\site-packages (from dtreeviz) (1.3.4)\n",
      "Requirement already satisfied: scikit-learn in c:\\users\\abhik\\anaconda3\\envs\\rdkit\\lib\\site-packages (from dtreeviz) (1.0.2)\n",
      "Requirement already satisfied: pytest in c:\\users\\abhik\\anaconda3\\envs\\rdkit\\lib\\site-packages (from dtreeviz) (7.1.3)\n",
      "Requirement already satisfied: Pillow in c:\\users\\abhik\\anaconda3\\envs\\rdkit\\lib\\site-packages (from rdkit-pypi) (9.1.1)\n",
      "Requirement already satisfied: tqdm in c:\\users\\abhik\\anaconda3\\envs\\rdkit\\lib\\site-packages (from PyTDC) (4.64.1)\n",
      "Requirement already satisfied: requests in c:\\users\\abhik\\anaconda3\\envs\\rdkit\\lib\\site-packages (from PyTDC) (2.28.1)\n",
      "Requirement already satisfied: fuzzywuzzy in c:\\users\\abhik\\anaconda3\\envs\\rdkit\\lib\\site-packages (from PyTDC) (0.18.0)\n",
      "Requirement already satisfied: seaborn in c:\\users\\abhik\\anaconda3\\envs\\rdkit\\lib\\site-packages (from PyTDC) (0.12.0)\n",
      "Requirement already satisfied: pyparsing>=2.2.1 in c:\\users\\abhik\\anaconda3\\envs\\rdkit\\lib\\site-packages (from matplotlib->dtreeviz) (3.0.9)\n",
      "Requirement already satisfied: cycler>=0.10 in c:\\users\\abhik\\anaconda3\\envs\\rdkit\\lib\\site-packages (from matplotlib->dtreeviz) (0.11.0)\n",
      "Requirement already satisfied: fonttools>=4.22.0 in c:\\users\\abhik\\anaconda3\\envs\\rdkit\\lib\\site-packages (from matplotlib->dtreeviz) (4.33.3)\n",
      "Requirement already satisfied: python-dateutil>=2.7 in c:\\users\\abhik\\anaconda3\\envs\\rdkit\\lib\\site-packages (from matplotlib->dtreeviz) (2.8.2)\n",
      "Requirement already satisfied: kiwisolver>=1.0.1 in c:\\users\\abhik\\anaconda3\\envs\\rdkit\\lib\\site-packages (from matplotlib->dtreeviz) (1.4.2)\n",
      "Requirement already satisfied: packaging>=20.0 in c:\\users\\abhik\\anaconda3\\envs\\rdkit\\lib\\site-packages (from matplotlib->dtreeviz) (21.3)\n",
      "Requirement already satisfied: pytz>=2017.3 in c:\\users\\abhik\\anaconda3\\envs\\rdkit\\lib\\site-packages (from pandas->dtreeviz) (2022.1)\n",
      "Requirement already satisfied: importlib-metadata>=0.12 in c:\\users\\abhik\\anaconda3\\envs\\rdkit\\lib\\site-packages (from pytest->dtreeviz) (4.11.3)\n",
      "Requirement already satisfied: colorama in c:\\users\\abhik\\anaconda3\\envs\\rdkit\\lib\\site-packages (from pytest->dtreeviz) (0.4.4)\n",
      "Requirement already satisfied: tomli>=1.0.0 in c:\\users\\abhik\\anaconda3\\envs\\rdkit\\lib\\site-packages (from pytest->dtreeviz) (1.2.2)\n",
      "Requirement already satisfied: attrs>=19.2.0 in c:\\users\\abhik\\anaconda3\\envs\\rdkit\\lib\\site-packages (from pytest->dtreeviz) (22.1.0)\n",
      "Requirement already satisfied: pluggy<2.0,>=0.12 in c:\\users\\abhik\\anaconda3\\envs\\rdkit\\lib\\site-packages (from pytest->dtreeviz) (1.0.0)\n",
      "Requirement already satisfied: py>=1.8.2 in c:\\users\\abhik\\anaconda3\\envs\\rdkit\\lib\\site-packages (from pytest->dtreeviz) (1.11.0)\n",
      "Requirement already satisfied: iniconfig in c:\\users\\abhik\\anaconda3\\envs\\rdkit\\lib\\site-packages (from pytest->dtreeviz) (1.1.1)\n",
      "Requirement already satisfied: urllib3<1.27,>=1.21.1 in c:\\users\\abhik\\anaconda3\\envs\\rdkit\\lib\\site-packages (from requests->PyTDC) (1.26.9)\n",
      "Requirement already satisfied: charset-normalizer<3,>=2 in c:\\users\\abhik\\anaconda3\\envs\\rdkit\\lib\\site-packages (from requests->PyTDC) (2.1.1)\n",
      "Requirement already satisfied: certifi>=2017.4.17 in c:\\users\\abhik\\anaconda3\\envs\\rdkit\\lib\\site-packages (from requests->PyTDC) (2022.6.15.1)\n",
      "Requirement already satisfied: idna<4,>=2.5 in c:\\users\\abhik\\anaconda3\\envs\\rdkit\\lib\\site-packages (from requests->PyTDC) (3.3)\n",
      "Requirement already satisfied: threadpoolctl>=2.0.0 in c:\\users\\abhik\\anaconda3\\envs\\rdkit\\lib\\site-packages (from scikit-learn->dtreeviz) (3.1.0)\n",
      "Requirement already satisfied: scipy>=1.1.0 in c:\\users\\abhik\\anaconda3\\envs\\rdkit\\lib\\site-packages (from scikit-learn->dtreeviz) (1.7.3)\n",
      "Requirement already satisfied: joblib>=0.11 in c:\\users\\abhik\\anaconda3\\envs\\rdkit\\lib\\site-packages (from scikit-learn->dtreeviz) (1.1.0)\n",
      "Requirement already satisfied: typing_extensions in c:\\users\\abhik\\anaconda3\\envs\\rdkit\\lib\\site-packages (from seaborn->PyTDC) (4.1.1)\n",
      "Requirement already satisfied: zipp>=0.5 in c:\\users\\abhik\\anaconda3\\envs\\rdkit\\lib\\site-packages (from importlib-metadata>=0.12->pytest->dtreeviz) (3.8.0)\n",
      "Requirement already satisfied: six>=1.5 in c:\\users\\abhik\\anaconda3\\envs\\rdkit\\lib\\site-packages (from python-dateutil>=2.7->matplotlib->dtreeviz) (1.16.0)\n"
     ]
    }
   ],
   "source": [
    "!conda activate rdkit\n",
    "!pip install dtreeviz rdkit-pypi PyTDC"
   ]
  },
  {
   "cell_type": "code",
   "execution_count": 2,
   "id": "13f3c3f6-4fdb-467c-9b0d-29fd5cb7ea97",
   "metadata": {
    "execution": {
     "iopub.execute_input": "2022-09-23T06:03:36.116976Z",
     "iopub.status.busy": "2022-09-23T06:03:36.116976Z",
     "iopub.status.idle": "2022-09-23T06:03:37.977015Z",
     "shell.execute_reply": "2022-09-23T06:03:37.976253Z"
    },
    "papermill": {
     "duration": 1.860039,
     "end_time": "2022-09-23T06:03:37.977015",
     "exception": false,
     "start_time": "2022-09-23T06:03:36.116976",
     "status": "completed"
    },
    "tags": []
   },
   "outputs": [],
   "source": [
    "import pandas as pd #data table manipulation\n",
    "from rdkit import Chem # basic cheminformatics\n",
    "from rdkit.Chem.Descriptors import MolWt, MolLogP, NumAromaticRings, NumHDonors, NumHAcceptors\n",
    "import math #needed for log10\n",
    "import seaborn as sns #plotting\n",
    "from sklearn.tree import DecisionTreeClassifier, plot_tree # decision trees\n",
    "from sklearn.model_selection import train_test_split # split a dataset\n",
    "from tqdm import tqdm # progress bar\n",
    "from matplotlib import pyplot as plt # plotting\n",
    "from dtreeviz.trees import * #plotting decision trees\n",
    "from sklearn.metrics import roc_auc_score, matthews_corrcoef, cohen_kappa_score, plot_roc_curve, plot_confusion_matrix # model stats\n",
    "from tdc.single_pred import ADME\n",
    "from rdkit.Chem.MolStandardize import rdMolStandardize\n",
    "from rdkit.rdBase import BlockLogs\n",
    "\n"
   ]
  },
  {
   "cell_type": "code",
   "execution_count": 3,
   "id": "9ef8f851-015d-412e-b586-d34014833565",
   "metadata": {
    "execution": {
     "iopub.execute_input": "2022-09-23T06:03:37.977015Z",
     "iopub.status.busy": "2022-09-23T06:03:37.977015Z",
     "iopub.status.idle": "2022-09-23T06:03:38.039894Z",
     "shell.execute_reply": "2022-09-23T06:03:38.039894Z"
    },
    "papermill": {
     "duration": 0.062879,
     "end_time": "2022-09-23T06:03:38.039894",
     "exception": false,
     "start_time": "2022-09-23T06:03:37.977015",
     "status": "completed"
    },
    "tags": []
   },
   "outputs": [
    {
     "name": "stderr",
     "output_type": "stream",
     "text": [
      "Found local copy...\n"
     ]
    },
    {
     "name": "stderr",
     "output_type": "stream",
     "text": [
      "Loading...\n"
     ]
    },
    {
     "name": "stderr",
     "output_type": "stream",
     "text": [
      "Done!\n"
     ]
    },
    {
     "data": {
      "text/html": [
       "<div>\n",
       "<style scoped>\n",
       "    .dataframe tbody tr th:only-of-type {\n",
       "        vertical-align: middle;\n",
       "    }\n",
       "\n",
       "    .dataframe tbody tr th {\n",
       "        vertical-align: top;\n",
       "    }\n",
       "\n",
       "    .dataframe thead th {\n",
       "        text-align: right;\n",
       "    }\n",
       "</style>\n",
       "<table border=\"1\" class=\"dataframe\">\n",
       "  <thead>\n",
       "    <tr style=\"text-align: right;\">\n",
       "      <th></th>\n",
       "      <th>SMILES</th>\n",
       "      <th>Name</th>\n",
       "      <th>LogS</th>\n",
       "    </tr>\n",
       "  </thead>\n",
       "  <tbody>\n",
       "    <tr>\n",
       "      <th>0</th>\n",
       "      <td>CCCCCCCCCCCCCCCCCC[N+](C)(C)C.[Br-]</td>\n",
       "      <td>N,N,N-trimethyloctadecan-1-aminium bromide</td>\n",
       "      <td>-3.616127</td>\n",
       "    </tr>\n",
       "    <tr>\n",
       "      <th>1</th>\n",
       "      <td>O=C1Nc2cccc3cccc1c23</td>\n",
       "      <td>Benzo[cd]indol-2(1H)-one</td>\n",
       "      <td>-3.254767</td>\n",
       "    </tr>\n",
       "    <tr>\n",
       "      <th>2</th>\n",
       "      <td>O=Cc1ccc(Cl)cc1</td>\n",
       "      <td>4-chlorobenzaldehyde</td>\n",
       "      <td>-2.177078</td>\n",
       "    </tr>\n",
       "    <tr>\n",
       "      <th>3</th>\n",
       "      <td>CC(c1ccccc1)c1cc(C(=O)[O-])c(O)c(C(C)c2ccccc2)...</td>\n",
       "      <td>zinc bis[2-hydroxy-3,5-bis(1-phenylethyl)benzo...</td>\n",
       "      <td>-3.924409</td>\n",
       "    </tr>\n",
       "    <tr>\n",
       "      <th>4</th>\n",
       "      <td>c1cc(N(CC2CO2)CC2CO2)ccc1Cc1ccc(N(CC2CO2)CC2CO...</td>\n",
       "      <td>4-({4-[bis(oxiran-2-ylmethyl)amino]phenyl}meth...</td>\n",
       "      <td>-4.662065</td>\n",
       "    </tr>\n",
       "    <tr>\n",
       "      <th>...</th>\n",
       "      <td>...</td>\n",
       "      <td>...</td>\n",
       "      <td>...</td>\n",
       "    </tr>\n",
       "    <tr>\n",
       "      <th>9977</th>\n",
       "      <td>CCCCNc1ccc(C(=O)OCCN(C)C)cc1</td>\n",
       "      <td>tetracaine</td>\n",
       "      <td>-3.010000</td>\n",
       "    </tr>\n",
       "    <tr>\n",
       "      <th>9978</th>\n",
       "      <td>CN(C)[C@@H]1C(O)=C(C(N)=O)C(=O)[C@@]2(O)C(O)=C...</td>\n",
       "      <td>tetracycline</td>\n",
       "      <td>-2.930000</td>\n",
       "    </tr>\n",
       "    <tr>\n",
       "      <th>9979</th>\n",
       "      <td>Cc1ccc(C(C)C)c(O)c1</td>\n",
       "      <td>thymol</td>\n",
       "      <td>-2.190000</td>\n",
       "    </tr>\n",
       "    <tr>\n",
       "      <th>9980</th>\n",
       "      <td>COc1ccc(CCN(C)CCCC(C#N)(c2ccc(OC)c(OC)c2)C(C)C...</td>\n",
       "      <td>verapamil</td>\n",
       "      <td>-3.980000</td>\n",
       "    </tr>\n",
       "    <tr>\n",
       "      <th>9981</th>\n",
       "      <td>CC(=O)CC(c1ccccc1)c1c(O)c2ccccc2oc1=O</td>\n",
       "      <td>warfarin</td>\n",
       "      <td>-4.780000</td>\n",
       "    </tr>\n",
       "  </tbody>\n",
       "</table>\n",
       "<p>9982 rows × 3 columns</p>\n",
       "</div>"
      ],
      "text/plain": [
       "                                                 SMILES  \\\n",
       "0                   CCCCCCCCCCCCCCCCCC[N+](C)(C)C.[Br-]   \n",
       "1                                  O=C1Nc2cccc3cccc1c23   \n",
       "2                                       O=Cc1ccc(Cl)cc1   \n",
       "3     CC(c1ccccc1)c1cc(C(=O)[O-])c(O)c(C(C)c2ccccc2)...   \n",
       "4     c1cc(N(CC2CO2)CC2CO2)ccc1Cc1ccc(N(CC2CO2)CC2CO...   \n",
       "...                                                 ...   \n",
       "9977                       CCCCNc1ccc(C(=O)OCCN(C)C)cc1   \n",
       "9978  CN(C)[C@@H]1C(O)=C(C(N)=O)C(=O)[C@@]2(O)C(O)=C...   \n",
       "9979                                Cc1ccc(C(C)C)c(O)c1   \n",
       "9980  COc1ccc(CCN(C)CCCC(C#N)(c2ccc(OC)c(OC)c2)C(C)C...   \n",
       "9981              CC(=O)CC(c1ccccc1)c1c(O)c2ccccc2oc1=O   \n",
       "\n",
       "                                                   Name      LogS  \n",
       "0            N,N,N-trimethyloctadecan-1-aminium bromide -3.616127  \n",
       "1                              Benzo[cd]indol-2(1H)-one -3.254767  \n",
       "2                                  4-chlorobenzaldehyde -2.177078  \n",
       "3     zinc bis[2-hydroxy-3,5-bis(1-phenylethyl)benzo... -3.924409  \n",
       "4     4-({4-[bis(oxiran-2-ylmethyl)amino]phenyl}meth... -4.662065  \n",
       "...                                                 ...       ...  \n",
       "9977                                         tetracaine -3.010000  \n",
       "9978                                       tetracycline -2.930000  \n",
       "9979                                             thymol -2.190000  \n",
       "9980                                          verapamil -3.980000  \n",
       "9981                                           warfarin -4.780000  \n",
       "\n",
       "[9982 rows x 3 columns]"
      ]
     },
     "execution_count": 3,
     "metadata": {},
     "output_type": "execute_result"
    }
   ],
   "source": [
    "tqdm.pandas()\n",
    "data = ADME(name = 'Solubility_AqSolDB')\n",
    "sol_df = data.get_data()\n",
    "sol_df.columns = [\"Name\",\"SMILES\",\"LogS\"]\n",
    "## Reordering columns names\n",
    "sol_df = sol_df[['SMILES','Name','LogS']]\n",
    "sol_df\n",
    "\n"
   ]
  },
  {
   "cell_type": "markdown",
   "id": "dade3b31-7b12-4434-bfce-1f59635cc0f7",
   "metadata": {
    "papermill": {
     "duration": 0.0,
     "end_time": "2022-09-23T06:03:38.039894",
     "exception": false,
     "start_time": "2022-09-23T06:03:38.039894",
     "status": "completed"
    },
    "tags": []
   },
   "source": [
    "Before we calculate descriptors, we're going to standardize the molecules. This process removes counterions, neutralizes molecules, and generates a standard tautomer. This process also generates a lot of logging output. We don't want to look at that output, so we're going to use the function BlockLogs to temporarily turn off logging. Once we're finished we delete the variable block and logging is back on.\n"
   ]
  },
  {
   "cell_type": "code",
   "execution_count": 4,
   "id": "44a1c213-f8d1-4fd6-b0ff-3c6cd07fd40a",
   "metadata": {
    "execution": {
     "iopub.execute_input": "2022-09-23T06:03:38.039894Z",
     "iopub.status.busy": "2022-09-23T06:03:38.039894Z",
     "iopub.status.idle": "2022-09-23T06:03:38.419046Z",
     "shell.execute_reply": "2022-09-23T06:03:38.418539Z"
    },
    "papermill": {
     "duration": 0.379152,
     "end_time": "2022-09-23T06:03:38.419046",
     "exception": false,
     "start_time": "2022-09-23T06:03:38.039894",
     "status": "completed"
    },
    "tags": []
   },
   "outputs": [
    {
     "data": {
      "image/png": "[encoded data removed]",
      "text/plain": [
       "<Figure size 460.65x360 with 1 Axes>"
      ]
     },
     "metadata": {
      "needs_background": "light"
     },
     "output_type": "display_data"
    }
   ],
   "source": [
    "block = BlockLogs()\n",
    "#sol_df['mol'] = sol_df.SMILES.progress_apply(standardize)\n",
    "del block\n",
    "\n",
    "sol_df['IsSol'] = sol_df.LogS > math.log10(200 * 1e-6)\n",
    "\n",
    "sns.set_context('talk') # Set the fonts the way I like them\n",
    "sns.displot(x='LogS',hue=\"IsSol\",data=sol_df)\n",
    "\n",
    "sol_df.to_csv(\"data/soldata.csv\")"
   ]
  },
  {
   "cell_type": "code",
   "execution_count": null,
   "id": "18736c68-dc12-4e37-b7aa-77bb840e8d76",
   "metadata": {
    "papermill": {
     "duration": 0.0,
     "end_time": "2022-09-23T06:03:38.419046",
     "exception": false,
     "start_time": "2022-09-23T06:03:38.419046",
     "status": "completed"
    },
    "tags": []
   },
   "outputs": [],
   "source": []
  }
 ],
 "metadata": {
  "kernelspec": {
   "display_name": "Python 3 (ipykernel)",
   "language": "python",
   "name": "python3"
  },
  "language_info": {
   "codemirror_mode": {
    "name": "ipython",
    "version": 3
   },
   "file_extension": ".py",
   "mimetype": "text/x-python",
   "name": "python",
   "nbconvert_exporter": "python",
   "pygments_lexer": "ipython3",
   "version": "3.7.12"
  },
  "papermill": {
   "default_parameters": {},
   "duration": 7.29456,
   "end_time": "2022-09-23T06:03:38.773855",
   "environment_variables": {},
   "exception": null,
   "input_path": "D:\\GitHub\\elyra-ai\\example\\ml_rdkit\\process_data.ipynb",
   "output_path": "D:\\GitHub\\elyra-ai\\example\\ml_rdkit\\process_data.ipynb",
   "parameters": {},
   "start_time": "2022-09-23T06:03:31.479295",
   "version": "2.3.4"
  }
 },
 "nbformat": 4,
 "nbformat_minor": 5
}