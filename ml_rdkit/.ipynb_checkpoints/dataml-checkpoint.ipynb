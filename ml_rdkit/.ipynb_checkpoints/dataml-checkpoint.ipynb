{
 "cells": [
  {
   "cell_type": "markdown",
   "id": "54c34545",
   "metadata": {
    "tags": [
     "papermill-error-cell-tag"
    ]
   },
   "source": [
    "<span style=\"color:red; font-family:Helvetica Neue, Helvetica, Arial, sans-serif; font-size:2em;\">An Exception was encountered at '<a href=\"#papermill-error-cell\">In [11]</a>'.</span>"
   ]
  },
  {
   "cell_type": "code",
   "execution_count": null,
   "id": "b34a39ef-4a25-49c6-80a2-be789b737e5a",
   "metadata": {
    "papermill": {
     "duration": 2.894003,
     "end_time": "2022-09-23T05:47:43.803226",
     "exception": false,
     "start_time": "2022-09-23T05:47:40.909223",
     "status": "completed"
    },
    "tags": []
   },
   "outputs": [],
   "source": [
    "!conda activate rdkit\n",
    "import pandas as pd #data table manipulation\n",
    "from rdkit import Chem # basic cheminformatics\n",
    "from rdkit.Chem.Descriptors import MolWt, MolLogP, NumAromaticRings, NumHDonors, NumHAcceptors\n",
    "import math #needed for log10\n",
    "import seaborn as sns #plotting\n",
    "from sklearn.tree import DecisionTreeClassifier, plot_tree # decision trees\n",
    "from sklearn.model_selection import train_test_split # split a dataset\n",
    "from tqdm import tqdm # progress bar\n",
    "from matplotlib import pyplot as plt # plotting\n",
    "from dtreeviz.trees import * #plotting decision trees\n",
    "from sklearn.metrics import roc_auc_score, matthews_corrcoef, cohen_kappa_score, plot_roc_curve, plot_confusion_matrix # model stats\n",
    "from tdc.single_pred import ADME\n",
    "from rdkit.Chem.MolStandardize import rdMolStandardize\n",
    "from rdkit.rdBase import BlockLogs\n",
    "\n"
   ]
  },
  {
   "cell_type": "code",
   "execution_count": null,
   "id": "59f7fee0-1f00-4baf-a7a7-5a3ab97d59dd",
   "metadata": {
    "papermill": {
     "duration": 0.031329,
     "end_time": "2022-09-23T05:47:43.834555",
     "exception": false,
     "start_time": "2022-09-23T05:47:43.803226",
     "status": "completed"
    },
    "tags": []
   },
   "outputs": [],
   "source": [
    "def calc_descriptors(mol):\n",
    "    if mol:\n",
    "        Chem.DeleteSubstructs(mol, Chem.MolFromSmarts(\"[#1X0]\"))\n",
    "        mw, logp, num_arom_rings, hbd, hba = [x(mol) for x in [MolWt, MolLogP, NumAromaticRings, NumHDonors, NumHAcceptors]]\n",
    "        res = [mw, logp, num_arom_rings, hbd, hba]\n",
    "    else:\n",
    "        res = [None] * 5\n",
    "    return res\n",
    "\n",
    "def standardize(smiles):\n",
    "    # Code borrowed from https://bitsilla.com/blog/2021/06/standardizing-a-molecule-using-rdkit/\n",
    "    # follows the steps in\n",
    "    # https://github.com/greglandrum/RSC_OpenScience_Standardization_202104/blob/main/MolStandardize%20pieces.ipynb\n",
    "    # as described **excellently** (by Greg) in\n",
    "    # https://www.youtube.com/watch?v=eWTApNX8dJQ\n",
    "    mol = Chem.MolFromSmiles(smiles)\n",
    "     \n",
    "    # removeHs, disconnect metal atoms, normalize the molecule, reionize the molecule\n",
    "    clean_mol = rdMolStandardize.Cleanup(mol) \n",
    "     \n",
    "    # if many fragments, get the \"parent\" (the actual mol we are interested in) \n",
    "    parent_clean_mol = rdMolStandardize.FragmentParent(clean_mol)\n",
    "         \n",
    "    # try to neutralize molecule\n",
    "    uncharger = rdMolStandardize.Uncharger() # annoying, but necessary as no convenience method exists\n",
    "    uncharged_parent_clean_mol = uncharger.uncharge(parent_clean_mol)\n",
    "     \n",
    "    # note that no attempt is made at reionization at this step\n",
    "    # nor at ionization at some pH (rdkit has no pKa caculator)\n",
    "    # the main aim to to represent all molecules from different sources\n",
    "    # in a (single) standard way, for use in ML, catalogue, etc.\n",
    "     \n",
    "    te = rdMolStandardize.TautomerEnumerator() # idem\n",
    "    taut_uncharged_parent_clean_mol = te.Canonicalize(uncharged_parent_clean_mol)\n",
    "     \n",
    "    return taut_uncharged_parent_clean_mol"
   ]
  },
  {
   "cell_type": "code",
   "execution_count": null,
   "id": "0a5c6646-aac3-4e98-a59a-4b1fc0b63cdc",
   "metadata": {
    "papermill": {
     "duration": 182.682588,
     "end_time": "2022-09-23T05:50:46.517143",
     "exception": false,
     "start_time": "2022-09-23T05:47:43.834555",
     "status": "completed"
    },
    "tags": []
   },
   "outputs": [],
   "source": [
    "tqdm.pandas()\n",
    "sol_df = pd.read_csv(\"data/soldata.csv\")\n",
    "block = BlockLogs()\n",
    "sol_df['mol'] = sol_df.SMILES.progress_apply(standardize)\n",
    "del block\n",
    "\n",
    "sol_df['desc'] = sol_df.mol.progress_apply(calc_descriptors)\n",
    "desc_cols = ['MW','LogP','NumAromatic','HBD','HBA']\n",
    "sol_df[desc_cols] = sol_df.desc.to_list()"
   ]
  },
  {
   "cell_type": "markdown",
   "id": "315ccc23-9ae2-40c7-9c7c-877d82ea8065",
   "metadata": {
    "papermill": {
     "duration": 0.063103,
     "end_time": "2022-09-23T05:51:10.233765",
     "exception": false,
     "start_time": "2022-09-23T05:51:10.170662",
     "status": "completed"
    },
    "tags": []
   },
   "source": [
    "In order to build a machine learning model, we will split the data into training and test sets. By default, the function train_test_split from scikit_learn puts 80% of the data into the training set and 20% into the test set. \n",
    "\n",
    "Our data is currently in a Pandas dataframe. I find it easier to build models with X and y variables. We'll split the training and test sets into X and y variables.\n"
   ]
  },
  {
   "cell_type": "code",
   "execution_count": null,
   "id": "e8c0469f-cd11-425f-b357-fd2c87083d2d",
   "metadata": {
    "papermill": {
     "duration": 0.066623,
     "end_time": "2022-09-23T05:51:10.341669",
     "exception": false,
     "start_time": "2022-09-23T05:51:10.275046",
     "status": "completed"
    },
    "tags": []
   },
   "outputs": [],
   "source": [
    "train, test = train_test_split(sol_df,test_size=0.2)\n",
    "train_X = train[desc_cols]\n",
    "train_y = train.IsSol\n",
    "test_X = test[desc_cols]\n",
    "test_y = test.IsSol"
   ]
  },
  {
   "cell_type": "markdown",
   "id": "6c92a56b-bdf2-48b2-a463-9b7628590278",
   "metadata": {
    "papermill": {
     "duration": 0.031312,
     "end_time": "2022-09-23T05:51:10.407642",
     "exception": false,
     "start_time": "2022-09-23T05:51:10.376330",
     "status": "completed"
    },
    "tags": []
   },
   "source": [
    "Create and train a classifier"
   ]
  },
  {
   "cell_type": "code",
   "execution_count": null,
   "id": "9966d729-4716-452a-ac82-5f7e85a0768d",
   "metadata": {
    "papermill": {
     "duration": 0.077652,
     "end_time": "2022-09-23T05:51:10.517075",
     "exception": false,
     "start_time": "2022-09-23T05:51:10.439423",
     "status": "completed"
    },
    "tags": []
   },
   "outputs": [],
   "source": [
    "#Create and train a classifier\n",
    "\n",
    "cls = DecisionTreeClassifier(max_depth=4)\n",
    "cls.fit(train_X,train_y)"
   ]
  },
  {
   "cell_type": "markdown",
   "id": "ec30d122-45d9-48af-a4ec-17593c5d38e4",
   "metadata": {
    "papermill": {
     "duration": 0.01569,
     "end_time": "2022-09-23T05:51:10.566501",
     "exception": false,
     "start_time": "2022-09-23T05:51:10.550811",
     "status": "completed"
    },
    "tags": []
   },
   "source": [
    "Predict on the test set"
   ]
  },
  {
   "cell_type": "code",
   "execution_count": null,
   "id": "ddb170e2-1a60-4cd1-b98b-9f91246739d6",
   "metadata": {
    "papermill": {
     "duration": 0.050503,
     "end_time": "2022-09-23T05:51:10.667177",
     "exception": false,
     "start_time": "2022-09-23T05:51:10.616674",
     "status": "completed"
    },
    "tags": []
   },
   "outputs": [],
   "source": [
    "pred = cls.predict(test_X)\n",
    "auc, mcc, kappa = roc_auc_score(test_y, pred),matthews_corrcoef(test_y,pred),cohen_kappa_score(test_y,pred)\n",
    "print(f\"ROC AUC = {auc:.2f}\")\n",
    "print(f\"Matthews Correlation Coefficient = {mcc:.2f}\")\n",
    "print(f\"Cohen\\'s Kappa = {kappa:.2f}\")"
   ]
  },
  {
   "cell_type": "code",
   "execution_count": null,
   "id": "7aa91846-ea75-4741-a3be-79be74ab9939",
   "metadata": {
    "papermill": {
     "duration": 0.240154,
     "end_time": "2022-09-23T05:51:28.480478",
     "exception": false,
     "start_time": "2022-09-23T05:51:28.240324",
     "status": "completed"
    },
    "tags": []
   },
   "outputs": [],
   "source": [
    "#Plot a confusion matrix to show the classifier performance\n",
    "plot_confusion_matrix(cls,test_X,test_y)"
   ]
  },
  {
   "cell_type": "code",
   "execution_count": null,
   "id": "8ea23a16-c9d4-4ed8-8756-914c4e4159f6",
   "metadata": {
    "papermill": {
     "duration": 0.209751,
     "end_time": "2022-09-23T05:51:28.718411",
     "exception": false,
     "start_time": "2022-09-23T05:51:28.508660",
     "status": "completed"
    },
    "tags": []
   },
   "outputs": [],
   "source": [
    "#Plot an ROC cure to show the classifier performance\n",
    "\n",
    "plot_roc_curve(cls,test_X,test_y)"
   ]
  },
  {
   "cell_type": "code",
   "execution_count": null,
   "id": "c2f3b482-f06b-4829-ae5e-d95196b6401d",
   "metadata": {
    "papermill": {
     "duration": 0.901455,
     "end_time": "2022-09-23T05:51:29.682284",
     "exception": false,
     "start_time": "2022-09-23T05:51:28.780829",
     "status": "completed"
    },
    "tags": []
   },
   "outputs": [],
   "source": [
    "plt.rcParams[\"figure.figsize\"] = (15,15)\n",
    "plot_tree(cls,feature_names=desc_cols)"
   ]
  },
  {
   "cell_type": "code",
   "execution_count": null,
   "id": "facefec5-d479-4309-a604-594505b007d0",
   "metadata": {
    "papermill": {
     "duration": 1.099673,
     "end_time": "2022-09-23T05:51:30.809587",
     "exception": false,
     "start_time": "2022-09-23T05:51:29.709914",
     "status": "completed"
    },
    "tags": []
   },
   "outputs": [],
   "source": [
    "!pip install dtreeviz rdkit-pypi PyTDC"
   ]
  },
  {
   "cell_type": "markdown",
   "id": "45b58345",
   "metadata": {
    "tags": [
     "papermill-error-cell-tag"
    ]
   },
   "source": [
    "<span id=\"papermill-error-cell\" style=\"color:red; font-family:Helvetica Neue, Helvetica, Arial, sans-serif; font-size:2em;\">Execution using papermill encountered an exception here and stopped:</span>"
   ]
  },
  {
   "cell_type": "code",
   "execution_count": null,
   "id": "0b838128-59a6-44ed-a71d-ad8ad2b7927b",
   "metadata": {
    "papermill": {
     "duration": 0.951706,
     "end_time": "2022-09-23T05:51:31.813442",
     "exception": true,
     "start_time": "2022-09-23T05:51:30.861736",
     "status": "failed"
    },
    "tags": []
   },
   "outputs": [],
   "source": [
    "#Use dtreeviz to plot the decision tree\n",
    "#!python -m pip install GraphViz\n",
    "import os\n",
    "os.environ[\"PATH\"] += os.pathsep + \"C:/Program Files/Graphviz/bin/dot.exe\"\n",
    "\n",
    "viz = dtreeviz(cls, train_X, train_y, feature_names = desc_cols, \n",
    "               target_name = \"Solubility\",class_names=[\"False\",\"True\"],scale=2)\n",
    "viz\n",
    "\n"
   ]
  },
  {
   "cell_type": "code",
   "execution_count": null,
   "id": "f8b3eb51-2563-4dc9-aa43-d056d4dee778",
   "metadata": {
    "papermill": {
     "duration": null,
     "end_time": null,
     "exception": null,
     "start_time": null,
     "status": "pending"
    },
    "tags": []
   },
   "outputs": [],
   "source": []
  }
 ],
 "metadata": {
  "kernelspec": {
   "display_name": "Python 3 (ipykernel)",
   "language": "python",
   "name": "python3"
  },
  "language_info": {
   "codemirror_mode": {
    "name": "ipython",
    "version": 3
   },
   "file_extension": ".py",
   "mimetype": "text/x-python",
   "name": "python",
   "nbconvert_exporter": "python",
   "pygments_lexer": "ipython3",
   "version": "3.7.12"
  },
  "papermill": {
   "default_parameters": {},
   "duration": 232.699486,
   "end_time": "2022-09-23T05:51:32.316491",
   "environment_variables": {},
   "exception": true,
   "input_path": "D:\\GitHub\\elyra-ai\\example\\ml_rdkit\\dataml.ipynb",
   "output_path": "D:\\GitHub\\elyra-ai\\example\\ml_rdkit\\dataml.ipynb",
   "parameters": {},
   "start_time": "2022-09-23T05:47:39.617005",
   "version": "2.3.4"
  },
  "toc-autonumbering": true,
  "toc-showcode": true,
  "toc-showmarkdowntxt": false,
  "toc-showtags": false
 },
 "nbformat": 4,
 "nbformat_minor": 5
}
