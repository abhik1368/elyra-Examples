{
 "cells": [
  {
   "cell_type": "code",
   "execution_count": null,
   "id": "06894dfb-6bd4-403d-94e5-97bbe2921478",
   "metadata": {},
   "outputs": [],
   "source": [
    "!conda activate rdkit\n",
    "!pip install dtreeviz rdkit-pypi PyTDC"
   ]
  },
  {
   "cell_type": "code",
   "execution_count": null,
   "id": "13f3c3f6-4fdb-467c-9b0d-29fd5cb7ea97",
   "metadata": {},
   "outputs": [],
   "source": [
    "import pandas as pd #data table manipulation\n",
    "from rdkit import Chem # basic cheminformatics\n",
    "from rdkit.Chem.Descriptors import MolWt, MolLogP, NumAromaticRings, NumHDonors, NumHAcceptors\n",
    "import math #needed for log10\n",
    "import seaborn as sns #plotting\n",
    "from sklearn.tree import DecisionTreeClassifier, plot_tree # decision trees\n",
    "from sklearn.model_selection import train_test_split # split a dataset\n",
    "from tqdm import tqdm # progress bar\n",
    "from matplotlib import pyplot as plt # plotting\n",
    "from dtreeviz.trees import * #plotting decision trees\n",
    "from sklearn.metrics import roc_auc_score, matthews_corrcoef, cohen_kappa_score, plot_roc_curve, plot_confusion_matrix # model stats\n",
    "from tdc.single_pred import ADME\n",
    "from rdkit.Chem.MolStandardize import rdMolStandardize\n",
    "from rdkit.rdBase import BlockLogs\n",
    "\n"
   ]
  },
  {
   "cell_type": "code",
   "execution_count": null,
   "id": "9ef8f851-015d-412e-b586-d34014833565",
   "metadata": {},
   "outputs": [],
   "source": [
    "tqdm.pandas()\n",
    "data = ADME(name = 'Solubility_AqSolDB')\n",
    "sol_df = data.get_data()\n",
    "sol_df.columns = [\"Name\",\"SMILES\",\"LogS\"]\n",
    "## Reordering columns names\n",
    "sol_df = sol_df[['SMILES','Name','LogS']]\n",
    "sol_df\n",
    "\n"
   ]
  },
  {
   "cell_type": "markdown",
   "id": "dade3b31-7b12-4434-bfce-1f59635cc0f7",
   "metadata": {},
   "source": [
    "Before we calculate descriptors, we're going to standardize the molecules. This process removes counterions, neutralizes molecules, and generates a standard tautomer. This process also generates a lot of logging output. We don't want to look at that output, so we're going to use the function BlockLogs to temporarily turn off logging. Once we're finished we delete the variable block and logging is back on.\n"
   ]
  },
  {
   "cell_type": "code",
   "execution_count": null,
   "id": "44a1c213-f8d1-4fd6-b0ff-3c6cd07fd40a",
   "metadata": {},
   "outputs": [],
   "source": [
    "block = BlockLogs()\n",
    "#sol_df['mol'] = sol_df.SMILES.progress_apply(standardize)\n",
    "del block\n",
    "\n",
    "sol_df['IsSol'] = sol_df.LogS > math.log10(200 * 1e-6)\n",
    "\n",
    "sns.set_context('talk') # Set the fonts the way I like them\n",
    "sns.displot(x='LogS',hue=\"IsSol\",data=sol_df)\n",
    "\n",
    "sol_df.to_csv(\"data/soldata.csv\")"
   ]
  },
  {
   "cell_type": "code",
   "execution_count": null,
   "id": "18736c68-dc12-4e37-b7aa-77bb840e8d76",
   "metadata": {},
   "outputs": [],
   "source": []
  }
 ],
 "metadata": {
  "kernelspec": {
   "display_name": "Python 3 (ipykernel)",
   "language": "python",
   "name": "python3"
  },
  "language_info": {
   "codemirror_mode": {
    "name": "ipython",
    "version": 3
   },
   "file_extension": ".py",
   "mimetype": "text/x-python",
   "name": "python",
   "nbconvert_exporter": "python",
   "pygments_lexer": "ipython3",
   "version": "3.7.12"
  }
 },
 "nbformat": 4,
 "nbformat_minor": 5
}
