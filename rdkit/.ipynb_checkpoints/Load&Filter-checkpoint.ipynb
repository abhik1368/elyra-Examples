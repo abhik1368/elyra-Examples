{
 "cells": [
  {
   "cell_type": "code",
   "execution_count": null,
   "id": "05aa43f1-fcbf-4ad0-8442-01a34bda6af4",
   "metadata": {
    "papermill": {
     "duration": null,
     "end_time": null,
     "exception": null,
     "start_time": null,
     "status": "completed"
    },
    "tags": []
   },
   "outputs": [],
   "source": [
    "!conda activate rdkit"
   ]
  },
  {
   "cell_type": "code",
   "execution_count": null,
   "id": "206f20fc-3259-40bd-81af-d31f85ae3107",
   "metadata": {
    "papermill": {
     "duration": null,
     "end_time": null,
     "exception": null,
     "start_time": null,
     "status": "completed"
    },
    "tags": []
   },
   "outputs": [],
   "source": [
    "from __future__ import print_function\n",
    "from __future__ import print_function\n",
    "import numpy as np\n",
    "import pandas as pd\n",
    "from rdkit import Chem\n",
    "from rdkit.Chem import PandasTools\n",
    "from rdkit.Chem.Draw import IPythonConsole\n",
    "%matplotlib inline\n"
   ]
  },
  {
   "cell_type": "code",
   "execution_count": null,
   "id": "89a89852-58be-4ac1-9643-5923a6e1d783",
   "metadata": {
    "papermill": {
     "duration": null,
     "end_time": null,
     "exception": null,
     "start_time": null,
     "status": "completed"
    },
    "tags": []
   },
   "outputs": [],
   "source": [
    "df = pd.read_csv('data/chembl_drugs.txt.gz', sep='\\t')"
   ]
  },
  {
   "cell_type": "markdown",
   "id": "e90b33ab-86f4-42d1-9ed5-16b2be56379f",
   "metadata": {
    "papermill": {
     "duration": null,
     "end_time": null,
     "exception": null,
     "start_time": null,
     "status": "completed"
    },
    "tags": []
   },
   "source": [
    "Keep only compounds with SMILES, [USAN stems](https://www.ama-assn.org/about-us/united-states-adopted-names-approved-stems), that respect [Ro5](https://en.wikipedia.org/wiki/Lipinski's_rule_of_five) and are on the market"
   ]
  },
  {
   "cell_type": "code",
   "execution_count": null,
   "id": "1b9f53b1-72bb-4645-9cee-f137c8dc889f",
   "metadata": {
    "papermill": {
     "duration": null,
     "end_time": null,
     "exception": null,
     "start_time": null,
     "status": "completed"
    },
    "tags": []
   },
   "outputs": [],
   "source": [
    "df = df[df['CANONICAL_SMILES'].notnull() & # Keep cpds with SMILES\n",
    "        df['USAN_STEM'].notnull() & # USAN stem\n",
    "        (df['RULE_OF_FIVE'] == 'Y') & # that respect Ro5\n",
    "        (df['DEVELOPMENT_PHASE'] == 4)] # are on the market\n",
    "#Add molecule column\n",
    "PandasTools.AddMoleculeColumnToFrame(df, smilesCol='CANONICAL_SMILES')\n",
    "df = df[~df['ROMol'].isnull()]"
   ]
  },
  {
   "cell_type": "markdown",
   "id": "95526b3a-6b6d-49c2-b664-213f0cafea03",
   "metadata": {
    "papermill": {
     "duration": null,
     "end_time": null,
     "exception": null,
     "start_time": null,
     "status": "completed"
    },
    "tags": []
   },
   "source": [
    "Check most common compound classees (based on USAN stem)"
   ]
  },
  {
   "cell_type": "code",
   "execution_count": null,
   "id": "4c7b38bd-d08f-40b0-8ea2-d40cb1841ec7",
   "metadata": {
    "papermill": {
     "duration": null,
     "end_time": null,
     "exception": null,
     "start_time": null,
     "status": "completed"
    },
    "tags": []
   },
   "outputs": [],
   "source": [
    "common_stems = df.groupby('USAN_STEM').size().sort_values()[-10:]\n",
    "stems = df.drop_duplicates(['USAN_STEM'])[df.drop_duplicates(['USAN_STEM'])['USAN_STEM'].isin(common_stems.index)][['USAN_STEM','USAN_STEM_DEFINITION']]\n",
    "stems.index = stems['USAN_STEM']\n",
    "stems['count'] = common_stems\n",
    "stems"
   ]
  },
  {
   "cell_type": "code",
   "execution_count": null,
   "id": "8eab004a-8b83-484c-bf34-acec123423f3",
   "metadata": {
    "papermill": {
     "duration": null,
     "end_time": null,
     "exception": null,
     "start_time": null,
     "status": "completed"
    },
    "tags": []
   },
   "outputs": [],
   "source": [
    "df.to_csv('processing/data.csv',index=False)\n",
    "stems.to_csv('processing/stems.csv',index=True)"
   ]
  }
 ],
 "metadata": {
  "kernelspec": {
   "display_name": "Python 3 (ipykernel)",
   "language": "python",
   "name": "python3"
  },
  "language_info": {
   "codemirror_mode": {
    "name": "ipython",
    "version": 3
   },
   "file_extension": ".py",
   "mimetype": "text/x-python",
   "name": "python",
   "nbconvert_exporter": "python",
   "pygments_lexer": "ipython3",
   "version": "3.7.12"
  },
  "papermill": {
   "default_parameters": {},
   "duration": 0,
   "end_time": "2022-09-21T19:03:05.665552",
   "environment_variables": {},
   "exception": null,
   "input_path": "D:\\GitHub\\elyra-ai\\example\\rdkit\\Load&Filter.ipynb",
   "output_path": "D:\\GitHub\\elyra-ai\\example\\rdkit\\Load&Filter.ipynb",
   "parameters": {},
   "start_time": "2022-09-21T19:03:05.665552",
   "version": "2.3.4"
  }
 },
 "nbformat": 4,
 "nbformat_minor": 5
}
