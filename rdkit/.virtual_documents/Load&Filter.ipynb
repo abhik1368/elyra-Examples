get_ipython().getoutput("conda activate rdkit")


from __future__ import print_function
from __future__ import print_function
import numpy as np
import pandas as pd
from rdkit import Chem
from rdkit.Chem import PandasTools
from rdkit.Chem.Draw import IPythonConsole
get_ipython().run_line_magic("matplotlib", " inline")



df = pd.read_csv('data/chembl_drugs.txt.gz', sep='\t')


df = df[df['CANONICAL_SMILES'].notnull() & # Keep cpds with SMILES
        df['USAN_STEM'].notnull() & # USAN stem
        (df['RULE_OF_FIVE'] == 'Y') & # that respect Ro5
        (df['DEVELOPMENT_PHASE'] == 4)] # are on the market
#Add molecule column
PandasTools.AddMoleculeColumnToFrame(df, smilesCol='CANONICAL_SMILES')
df = df[~df['ROMol'].isnull()]


common_stems = df.groupby('USAN_STEM').size().sort_values()[-10:]
stems = df.drop_duplicates(['USAN_STEM'])[df.drop_duplicates(['USAN_STEM'])['USAN_STEM'].isin(common_stems.index)][['USAN_STEM','USAN_STEM_DEFINITION']]
stems.index = stems['USAN_STEM']
stems['count'] = common_stems
stems


df.to_csv('processing/data.csv',index=False)
stems.to_csv('processing/stems.csv',index=True)
