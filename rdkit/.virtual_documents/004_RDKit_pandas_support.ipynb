from __future__ import print_function
get_ipython().run_line_magic("matplotlib", " inline")


import pandas as pd
from rdkit import Chem
from rdkit.Chem import PandasTools
from rdkit.Chem.Draw import IPythonConsole

# The next line is commented out 
# because GitHub does not render svg's embedded in notebooks
IPythonConsole.ipython_useSVG=False


df = pd.read_csv('../data/chembl_drugs.txt.gz', sep='\t')


[str(x) for x in df.columns]


len(df)


df = df[df['CANONICAL_SMILES'].notnull() & # Keep cpds with SMILES
        (df['RULE_OF_FIVE'] == 'Y') & # that respect Ro5
        (df['DEVELOPMENT_PHASE'] == 4)] # are on the market


len(df)


PandasTools.AddMoleculeColumnToFrame(df, smilesCol='CANONICAL_SMILES')


df = df[~df['ROMol'].isnull()]


df['name'] = df.apply(lambda x: x['SYNONYMS'].split('(')[0] if type(x['SYNONYMS']) is str else None, axis=1)


PandasTools.FrameToGridImage(df.head(8), legendsCol='name', molsPerRow=4)


from rdkit.Chem import Descriptors


df['MW'] = df['ROMol'].map(Descriptors.MolWt)
df['logP'] = df['ROMol'].map(Descriptors.MolLogP)


#doctest: IGNORE
df['MW'].hist();


#doctest: IGNORE
df['logP'].hist();


query = Chem.MolFromSmarts('Nc1ccc(S(=O)(=O)-[*])cc1')
query


query = Chem.MolFromSmarts('N-c1ccc(-S(=O)(=O)-[*])cc1')
query


len(df[df['ROMol'] >= query])


df[df['ROMol'] >= query][['SYNONYMS', 'ROMol']].head()


PandasTools.FrameToGridImage(df[df['ROMol'] >= query].head(12), legendsCol='name', molsPerRow=4)


PandasTools.WriteSDF(df, '../data/approved_drugs.sdf', idName='CHEMBL_ID', properties=df.columns)
