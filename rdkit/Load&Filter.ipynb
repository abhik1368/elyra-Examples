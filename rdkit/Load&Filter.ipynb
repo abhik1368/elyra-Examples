{
 "cells": [
  {
   "cell_type": "code",
   "execution_count": 1,
   "id": "05aa43f1-fcbf-4ad0-8442-01a34bda6af4",
   "metadata": {
    "execution": {
     "iopub.execute_input": "2022-09-21T20:12:01.606286Z",
     "iopub.status.busy": "2022-09-21T20:12:01.606286Z",
     "iopub.status.idle": "2022-09-21T20:12:02.320793Z",
     "shell.execute_reply": "2022-09-21T20:12:02.319346Z"
    },
    "papermill": {
     "duration": 0.714507,
     "end_time": "2022-09-21T20:12:02.320793",
     "exception": false,
     "start_time": "2022-09-21T20:12:01.606286",
     "status": "completed"
    },
    "tags": []
   },
   "outputs": [],
   "source": [
    "!conda activate rdkit"
   ]
  },
  {
   "cell_type": "code",
   "execution_count": 2,
   "id": "206f20fc-3259-40bd-81af-d31f85ae3107",
   "metadata": {
    "execution": {
     "iopub.execute_input": "2022-09-21T20:12:02.320793Z",
     "iopub.status.busy": "2022-09-21T20:12:02.320793Z",
     "iopub.status.idle": "2022-09-21T20:12:03.165876Z",
     "shell.execute_reply": "2022-09-21T20:12:03.165876Z"
    },
    "papermill": {
     "duration": 0.845083,
     "end_time": "2022-09-21T20:12:03.165876",
     "exception": false,
     "start_time": "2022-09-21T20:12:02.320793",
     "status": "completed"
    },
    "tags": []
   },
   "outputs": [],
   "source": [
    "from __future__ import print_function\n",
    "from __future__ import print_function\n",
    "import numpy as np\n",
    "import pandas as pd\n",
    "from rdkit import Chem\n",
    "from rdkit.Chem import PandasTools\n",
    "from rdkit.Chem.Draw import IPythonConsole\n",
    "%matplotlib inline\n"
   ]
  },
  {
   "cell_type": "code",
   "execution_count": 3,
   "id": "89a89852-58be-4ac1-9643-5923a6e1d783",
   "metadata": {
    "execution": {
     "iopub.execute_input": "2022-09-21T20:12:03.165876Z",
     "iopub.status.busy": "2022-09-21T20:12:03.165876Z",
     "iopub.status.idle": "2022-09-21T20:12:03.228353Z",
     "shell.execute_reply": "2022-09-21T20:12:03.228353Z"
    },
    "papermill": {
     "duration": 0.062477,
     "end_time": "2022-09-21T20:12:03.228353",
     "exception": false,
     "start_time": "2022-09-21T20:12:03.165876",
     "status": "completed"
    },
    "tags": []
   },
   "outputs": [],
   "source": [
    "df = pd.read_csv('data/chembl_drugs.txt.gz', sep='\\t')"
   ]
  },
  {
   "cell_type": "markdown",
   "id": "e90b33ab-86f4-42d1-9ed5-16b2be56379f",
   "metadata": {
    "papermill": {
     "duration": 0.0,
     "end_time": "2022-09-21T20:12:03.228353",
     "exception": false,
     "start_time": "2022-09-21T20:12:03.228353",
     "status": "completed"
    },
    "tags": []
   },
   "source": [
    "Keep only compounds with SMILES, [USAN stems](https://www.ama-assn.org/about-us/united-states-adopted-names-approved-stems), that respect [Ro5](https://en.wikipedia.org/wiki/Lipinski's_rule_of_five) and are on the market"
   ]
  },
  {
   "cell_type": "code",
   "execution_count": 4,
   "id": "1b9f53b1-72bb-4645-9cee-f137c8dc889f",
   "metadata": {
    "execution": {
     "iopub.execute_input": "2022-09-21T20:12:03.228353Z",
     "iopub.status.busy": "2022-09-21T20:12:03.228353Z",
     "iopub.status.idle": "2022-09-21T20:12:03.353770Z",
     "shell.execute_reply": "2022-09-21T20:12:03.353770Z"
    },
    "papermill": {
     "duration": 0.125417,
     "end_time": "2022-09-21T20:12:03.353770",
     "exception": false,
     "start_time": "2022-09-21T20:12:03.228353",
     "status": "completed"
    },
    "tags": []
   },
   "outputs": [],
   "source": [
    "df = df[df['CANONICAL_SMILES'].notnull() & # Keep cpds with SMILES\n",
    "        df['USAN_STEM'].notnull() & # USAN stem\n",
    "        (df['RULE_OF_FIVE'] == 'Y') & # that respect Ro5\n",
    "        (df['DEVELOPMENT_PHASE'] == 4)] # are on the market\n",
    "#Add molecule column\n",
    "PandasTools.AddMoleculeColumnToFrame(df, smilesCol='CANONICAL_SMILES')\n",
    "df = df[~df['ROMol'].isnull()]"
   ]
  },
  {
   "cell_type": "markdown",
   "id": "95526b3a-6b6d-49c2-b664-213f0cafea03",
   "metadata": {
    "papermill": {
     "duration": 0.0,
     "end_time": "2022-09-21T20:12:03.353770",
     "exception": false,
     "start_time": "2022-09-21T20:12:03.353770",
     "status": "completed"
    },
    "tags": []
   },
   "source": [
    "Check most common compound classees (based on USAN stem)"
   ]
  },
  {
   "cell_type": "code",
   "execution_count": 5,
   "id": "4c7b38bd-d08f-40b0-8ea2-d40cb1841ec7",
   "metadata": {
    "execution": {
     "iopub.execute_input": "2022-09-21T20:12:03.369451Z",
     "iopub.status.busy": "2022-09-21T20:12:03.369451Z",
     "iopub.status.idle": "2022-09-21T20:12:03.400712Z",
     "shell.execute_reply": "2022-09-21T20:12:03.400712Z"
    },
    "papermill": {
     "duration": 0.031261,
     "end_time": "2022-09-21T20:12:03.400712",
     "exception": false,
     "start_time": "2022-09-21T20:12:03.369451",
     "status": "completed"
    },
    "tags": []
   },
   "outputs": [
    {
     "data": {
      "text/html": [
       "<div>\n",
       "<style scoped>\n",
       "    .dataframe tbody tr th:only-of-type {\n",
       "        vertical-align: middle;\n",
       "    }\n",
       "\n",
       "    .dataframe tbody tr th {\n",
       "        vertical-align: top;\n",
       "    }\n",
       "\n",
       "    .dataframe thead th {\n",
       "        text-align: right;\n",
       "    }\n",
       "</style>\n",
       "<table border=\"1\" class=\"dataframe\">\n",
       "  <thead>\n",
       "    <tr style=\"text-align: right;\">\n",
       "      <th></th>\n",
       "      <th>USAN_STEM</th>\n",
       "      <th>USAN_STEM_DEFINITION</th>\n",
       "      <th>count</th>\n",
       "    </tr>\n",
       "    <tr>\n",
       "      <th>USAN_STEM</th>\n",
       "      <th></th>\n",
       "      <th></th>\n",
       "      <th></th>\n",
       "    </tr>\n",
       "  </thead>\n",
       "  <tbody>\n",
       "    <tr>\n",
       "      <th>-olone</th>\n",
       "      <td>-olone</td>\n",
       "      <td>steroids (not prednisolone derivatives)</td>\n",
       "      <td>12</td>\n",
       "    </tr>\n",
       "    <tr>\n",
       "      <th>-oxacin</th>\n",
       "      <td>-oxacin</td>\n",
       "      <td>antibacterials (quinolone derivatives)</td>\n",
       "      <td>17</td>\n",
       "    </tr>\n",
       "    <tr>\n",
       "      <th>-pin(e)</th>\n",
       "      <td>-pin(e)</td>\n",
       "      <td>tricyclic compounds</td>\n",
       "      <td>12</td>\n",
       "    </tr>\n",
       "    <tr>\n",
       "      <th>-tinib</th>\n",
       "      <td>-tinib</td>\n",
       "      <td>tyrosine kinase inhibitors</td>\n",
       "      <td>12</td>\n",
       "    </tr>\n",
       "    <tr>\n",
       "      <th>-caine</th>\n",
       "      <td>-caine</td>\n",
       "      <td>local anesthetics</td>\n",
       "      <td>15</td>\n",
       "    </tr>\n",
       "    <tr>\n",
       "      <th>sulfa-</th>\n",
       "      <td>sulfa-</td>\n",
       "      <td>antimicrobials (sulfonamides derivatives)</td>\n",
       "      <td>18</td>\n",
       "    </tr>\n",
       "    <tr>\n",
       "      <th>-vir</th>\n",
       "      <td>-vir</td>\n",
       "      <td>antivirals: antivirals (acyclovir type)</td>\n",
       "      <td>15</td>\n",
       "    </tr>\n",
       "    <tr>\n",
       "      <th>-ium</th>\n",
       "      <td>-ium</td>\n",
       "      <td>quaternary ammonium derivatives</td>\n",
       "      <td>14</td>\n",
       "    </tr>\n",
       "    <tr>\n",
       "      <th>-cillin</th>\n",
       "      <td>-cillin</td>\n",
       "      <td>penicillins</td>\n",
       "      <td>17</td>\n",
       "    </tr>\n",
       "    <tr>\n",
       "      <th>-olol</th>\n",
       "      <td>-olol</td>\n",
       "      <td>beta-blockers (propranolol type)</td>\n",
       "      <td>18</td>\n",
       "    </tr>\n",
       "  </tbody>\n",
       "</table>\n",
       "</div>"
      ],
      "text/plain": [
       "          USAN_STEM                       USAN_STEM_DEFINITION  count\n",
       "USAN_STEM                                                            \n",
       "-olone       -olone    steroids (not prednisolone derivatives)     12\n",
       "-oxacin     -oxacin     antibacterials (quinolone derivatives)     17\n",
       "-pin(e)     -pin(e)                        tricyclic compounds     12\n",
       "-tinib       -tinib                 tyrosine kinase inhibitors     12\n",
       "-caine       -caine                          local anesthetics     15\n",
       "sulfa-       sulfa-  antimicrobials (sulfonamides derivatives)     18\n",
       "-vir           -vir    antivirals: antivirals (acyclovir type)     15\n",
       "-ium           -ium            quaternary ammonium derivatives     14\n",
       "-cillin     -cillin                                penicillins     17\n",
       "-olol         -olol           beta-blockers (propranolol type)     18"
      ]
     },
     "execution_count": 5,
     "metadata": {},
     "output_type": "execute_result"
    }
   ],
   "source": [
    "common_stems = df.groupby('USAN_STEM').size().sort_values()[-10:]\n",
    "stems = df.drop_duplicates(['USAN_STEM'])[df.drop_duplicates(['USAN_STEM'])['USAN_STEM'].isin(common_stems.index)][['USAN_STEM','USAN_STEM_DEFINITION']]\n",
    "stems.index = stems['USAN_STEM']\n",
    "stems['count'] = common_stems\n",
    "stems"
   ]
  },
  {
   "cell_type": "code",
   "execution_count": 6,
   "id": "8eab004a-8b83-484c-bf34-acec123423f3",
   "metadata": {
    "execution": {
     "iopub.execute_input": "2022-09-21T20:12:03.400712Z",
     "iopub.status.busy": "2022-09-21T20:12:03.400712Z",
     "iopub.status.idle": "2022-09-21T20:12:05.279503Z",
     "shell.execute_reply": "2022-09-21T20:12:05.279503Z"
    },
    "papermill": {
     "duration": 1.878791,
     "end_time": "2022-09-21T20:12:05.279503",
     "exception": false,
     "start_time": "2022-09-21T20:12:03.400712",
     "status": "completed"
    },
    "tags": []
   },
   "outputs": [],
   "source": [
    "df.to_csv('processing/data.csv',index=False)\n",
    "stems.to_csv('processing/stems.csv',index=True)"
   ]
  }
 ],
 "metadata": {
  "kernelspec": {
   "display_name": "Python 3 (ipykernel)",
   "language": "python",
   "name": "python3"
  },
  "language_info": {
   "codemirror_mode": {
    "name": "ipython",
    "version": 3
   },
   "file_extension": ".py",
   "mimetype": "text/x-python",
   "name": "python",
   "nbconvert_exporter": "python",
   "pygments_lexer": "ipython3",
   "version": "3.7.12"
  },
  "papermill": {
   "default_parameters": {},
   "duration": 5.177359,
   "end_time": "2022-09-21T20:12:05.512487",
   "environment_variables": {},
   "exception": null,
   "input_path": "D:\\GitHub\\elyra-ai\\example\\rdkit\\Load&Filter.ipynb",
   "output_path": "D:\\GitHub\\elyra-ai\\example\\rdkit\\Load&Filter.ipynb",
   "parameters": {},
   "start_time": "2022-09-21T20:12:00.335128",
   "version": "2.3.4"
  }
 },
 "nbformat": 4,
 "nbformat_minor": 5
}